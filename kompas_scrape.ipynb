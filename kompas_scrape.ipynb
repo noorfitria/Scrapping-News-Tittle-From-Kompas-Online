{
 "cells": [
  {
   "cell_type": "code",
   "execution_count": 2,
   "metadata": {},
   "outputs": [],
   "source": [
    "#import semua yang kita butuhkan\n",
    "from bs4 import BeautifulSoup as bs\n",
    "from urllib.request import urlopen, Request\n",
    "from mysql_database import MySqlDB\n",
    "import pandas as pd"
   ]
  },
  {
   "cell_type": "code",
   "execution_count": 15,
   "metadata": {},
   "outputs": [],
   "source": [
    "#siapkan semua parameter\n",
    "user_agent = \"Mozilla/5.0 (Windows NT 10.0; Win64; x64) AppleWebKit/537.36 (KHTML, like Gecko) Chrome/99.0.4844.82 Safari/537.36\"\n",
    "headers = {\n",
    "    'User-Agent': user_agent\n",
    "}\n",
    "\n",
    "alamat = \"https://www.kompas.com/\""
   ]
  },
  {
   "cell_type": "code",
   "execution_count": 17,
   "metadata": {},
   "outputs": [],
   "source": [
    "#request- response\n",
    "data_request = Request(alamat, headers=headers)\n",
    "response = urlopen(data_request)"
   ]
  },
  {
   "cell_type": "code",
   "execution_count": 18,
   "metadata": {},
   "outputs": [],
   "source": [
    "#masukkan dalam objek beautifulsoup\n",
    "soup = bs(response, \"html.parser\")"
   ]
  },
  {
   "cell_type": "code",
   "execution_count": null,
   "metadata": {},
   "outputs": [],
   "source": [
    "#div, sidebar-latest-photo \n",
    "articles = soup.find(\"div\", {\"class\":\"most ga--most mt1 clearfix\"})\n",
    "print(articles)"
   ]
  },
  {
   "cell_type": "code",
   "execution_count": 23,
   "metadata": {},
   "outputs": [
    {
     "name": "stdout",
     "output_type": "stream",
     "text": [
      "[<h4 class=\"most__title\">Hasil Swiss Open 2022: Tembus Semifinal, Anthony Ginting Jumpa Wakil India Lagi</h4>, <h4 class=\"most__title\">Sebelum Bunuh Diri, Pria yang Tewas di Parkiran Apartemen Kelapa Gading Tinggalkan PIN ATM dan Password Internet Banking</h4>, <h4 class=\"most__title\">Kapal Perang Rusia Orsk Meledak di Laut Azov, Hancur Diserang Ukraina</h4>, <h4 class=\"most__title\">Hasil Bali United Vs Persebaya 0-3, Antiklimaks Momen Serdadu Tridatu Juara Liga 1</h4>, <h4 class=\"most__title\">Istri Juragan 99 Bantah Omzet MS Glow Rp 600 Miliar, Sebut Itu Cuma Asumsi</h4>, <h4 class=\"most__title\">Rekap Hasil Swiss Open 2022: 5 Wakil Indonesia ke Semifinal, Potensi 2 Duel Merah Putih di Final</h4>, <h4 class=\"most__title\">Hasil Swiss Open 2022: Bekuk Wakil Malaysia, Fajar/Rian Tembus Semifinal</h4>, <h4 class=\"most__title\">Rusia Umumkan 1.351 Tentaranya Tewas, sedangkan Ukraina 14.000</h4>, <h4 class=\"most__title\">Link Live Streaming Argentina Vs Venezuela, Kickoff 06.30 WIB</h4>, <h4 class=\"most__title\">Menunggu Difoto Drone, 66 Siswa Ciamis Jatuh ke Sungai akibat Jembatan Gantung Ambruk</h4>]\n"
     ]
    }
   ],
   "source": [
    "titles = articles.find_all(\"h4\", {\"class\":\"most__title\"})\n",
    "print(titles)"
   ]
  },
  {
   "cell_type": "code",
   "execution_count": 24,
   "metadata": {},
   "outputs": [],
   "source": [
    "list_title = [title.get_text().rstrip() for title in titles]"
   ]
  },
  {
   "cell_type": "code",
   "execution_count": 25,
   "metadata": {},
   "outputs": [
    {
     "name": "stdout",
     "output_type": "stream",
     "text": [
      "['Hasil Swiss Open 2022: Tembus Semifinal, Anthony Ginting Jumpa Wakil India Lagi', 'Sebelum Bunuh Diri, Pria yang Tewas di Parkiran Apartemen Kelapa Gading Tinggalkan PIN ATM dan Password Internet Banking', 'Kapal Perang Rusia Orsk Meledak di Laut Azov, Hancur Diserang Ukraina', 'Hasil Bali United Vs Persebaya 0-3, Antiklimaks Momen Serdadu Tridatu Juara Liga 1', 'Istri Juragan 99 Bantah Omzet MS Glow Rp 600 Miliar, Sebut Itu Cuma Asumsi', 'Rekap Hasil Swiss Open 2022: 5 Wakil Indonesia ke Semifinal, Potensi 2 Duel Merah Putih di Final', 'Hasil Swiss Open 2022: Bekuk Wakil Malaysia, Fajar/Rian Tembus Semifinal', 'Rusia Umumkan 1.351 Tentaranya Tewas, sedangkan Ukraina 14.000', 'Link Live Streaming Argentina Vs Venezuela, Kickoff 06.30 WIB', 'Menunggu Difoto Drone, 66 Siswa Ciamis Jatuh ke Sungai akibat Jembatan Gantung Ambruk']\n"
     ]
    }
   ],
   "source": [
    "print(list_title)"
   ]
  },
  {
   "cell_type": "code",
   "execution_count": 27,
   "metadata": {},
   "outputs": [
    {
     "name": "stdout",
     "output_type": "stream",
     "text": [
      "Koneksi Berhasil\n",
      "\n",
      "                INSERT INTO ARTIKEL (title)\n",
      "                VALUES (\"Hasil Swiss Open 2022: Tembus Semifinal, Anthony Ginting Jumpa Wakil India Lagi\")\n",
      "                \n",
      "\n",
      "                INSERT INTO ARTIKEL (title)\n",
      "                VALUES (\"Sebelum Bunuh Diri, Pria yang Tewas di Parkiran Apartemen Kelapa Gading Tinggalkan PIN ATM dan Password Internet Banking\")\n",
      "                \n",
      "\n",
      "                INSERT INTO ARTIKEL (title)\n",
      "                VALUES (\"Kapal Perang Rusia Orsk Meledak di Laut Azov, Hancur Diserang Ukraina\")\n",
      "                \n",
      "\n",
      "                INSERT INTO ARTIKEL (title)\n",
      "                VALUES (\"Hasil Bali United Vs Persebaya 0-3, Antiklimaks Momen Serdadu Tridatu Juara Liga 1\")\n",
      "                \n",
      "\n",
      "                INSERT INTO ARTIKEL (title)\n",
      "                VALUES (\"Istri Juragan 99 Bantah Omzet MS Glow Rp 600 Miliar, Sebut Itu Cuma Asumsi\")\n",
      "                \n",
      "\n",
      "                INSERT INTO ARTIKEL (title)\n",
      "                VALUES (\"Rekap Hasil Swiss Open 2022: 5 Wakil Indonesia ke Semifinal, Potensi 2 Duel Merah Putih di Final\")\n",
      "                \n",
      "\n",
      "                INSERT INTO ARTIKEL (title)\n",
      "                VALUES (\"Hasil Swiss Open 2022: Bekuk Wakil Malaysia, Fajar/Rian Tembus Semifinal\")\n",
      "                \n",
      "\n",
      "                INSERT INTO ARTIKEL (title)\n",
      "                VALUES (\"Rusia Umumkan 1.351 Tentaranya Tewas, sedangkan Ukraina 14.000\")\n",
      "                \n",
      "\n",
      "                INSERT INTO ARTIKEL (title)\n",
      "                VALUES (\"Link Live Streaming Argentina Vs Venezuela, Kickoff 06.30 WIB\")\n",
      "                \n",
      "\n",
      "                INSERT INTO ARTIKEL (title)\n",
      "                VALUES (\"Menunggu Difoto Drone, 66 Siswa Ciamis Jatuh ke Sungai akibat Jembatan Gantung Ambruk\")\n",
      "                \n",
      "Penambahan Data Berhasil\n"
     ]
    }
   ],
   "source": [
    "#menyimpan dalam sql\n",
    "db = MySqlDB()\n",
    "db.open_connection()\n",
    "db.insert_titles(list_title)"
   ]
  },
  {
   "cell_type": "code",
   "execution_count": 28,
   "metadata": {},
   "outputs": [
    {
     "name": "stdout",
     "output_type": "stream",
     "text": [
      "(1, 'Hasil Swiss Open 2022: Tembus Semifinal, Anthony Ginting Jumpa Wakil India Lagi')\n",
      "(2, 'Sebelum Bunuh Diri, Pria yang Tewas di Parkiran Apartemen Kelapa Gading Tinggalkan PIN ATM dan Password Internet Banking')\n",
      "(3, 'Kapal Perang Rusia Orsk Meledak di Laut Azov, Hancur Diserang Ukraina')\n",
      "(4, 'Hasil Bali United Vs Persebaya 0-3, Antiklimaks Momen Serdadu Tridatu Juara Liga 1')\n",
      "(5, 'Istri Juragan 99 Bantah Omzet MS Glow Rp 600 Miliar, Sebut Itu Cuma Asumsi')\n",
      "(6, 'Rekap Hasil Swiss Open 2022: 5 Wakil Indonesia ke Semifinal, Potensi 2 Duel Merah Putih di Final')\n",
      "(7, 'Hasil Swiss Open 2022: Bekuk Wakil Malaysia, Fajar/Rian Tembus Semifinal')\n",
      "(8, 'Rusia Umumkan 1.351 Tentaranya Tewas, sedangkan Ukraina 14.000')\n",
      "(9, 'Link Live Streaming Argentina Vs Venezuela, Kickoff 06.30 WIB')\n",
      "(10, 'Menunggu Difoto Drone, 66 Siswa Ciamis Jatuh ke Sungai akibat Jembatan Gantung Ambruk')\n"
     ]
    }
   ],
   "source": [
    "#melihat data\n",
    "db.search_all()"
   ]
  },
  {
   "cell_type": "code",
   "execution_count": 29,
   "metadata": {},
   "outputs": [],
   "source": [
    "#tutup koneksi\n",
    "db.close_connection()"
   ]
  },
  {
   "cell_type": "code",
   "execution_count": 30,
   "metadata": {},
   "outputs": [],
   "source": [
    "df = pd.DataFrame(list_title, columns=['title'])"
   ]
  },
  {
   "cell_type": "code",
   "execution_count": 31,
   "metadata": {},
   "outputs": [
    {
     "data": {
      "text/html": [
       "<div>\n",
       "<style scoped>\n",
       "    .dataframe tbody tr th:only-of-type {\n",
       "        vertical-align: middle;\n",
       "    }\n",
       "\n",
       "    .dataframe tbody tr th {\n",
       "        vertical-align: top;\n",
       "    }\n",
       "\n",
       "    .dataframe thead th {\n",
       "        text-align: right;\n",
       "    }\n",
       "</style>\n",
       "<table border=\"1\" class=\"dataframe\">\n",
       "  <thead>\n",
       "    <tr style=\"text-align: right;\">\n",
       "      <th></th>\n",
       "      <th>title</th>\n",
       "    </tr>\n",
       "  </thead>\n",
       "  <tbody>\n",
       "    <tr>\n",
       "      <th>0</th>\n",
       "      <td>Hasil Swiss Open 2022: Tembus Semifinal, Antho...</td>\n",
       "    </tr>\n",
       "    <tr>\n",
       "      <th>1</th>\n",
       "      <td>Sebelum Bunuh Diri, Pria yang Tewas di Parkira...</td>\n",
       "    </tr>\n",
       "    <tr>\n",
       "      <th>2</th>\n",
       "      <td>Kapal Perang Rusia Orsk Meledak di Laut Azov, ...</td>\n",
       "    </tr>\n",
       "    <tr>\n",
       "      <th>3</th>\n",
       "      <td>Hasil Bali United Vs Persebaya 0-3, Antiklimak...</td>\n",
       "    </tr>\n",
       "    <tr>\n",
       "      <th>4</th>\n",
       "      <td>Istri Juragan 99 Bantah Omzet MS Glow Rp 600 M...</td>\n",
       "    </tr>\n",
       "    <tr>\n",
       "      <th>5</th>\n",
       "      <td>Rekap Hasil Swiss Open 2022: 5 Wakil Indonesia...</td>\n",
       "    </tr>\n",
       "    <tr>\n",
       "      <th>6</th>\n",
       "      <td>Hasil Swiss Open 2022: Bekuk Wakil Malaysia, F...</td>\n",
       "    </tr>\n",
       "    <tr>\n",
       "      <th>7</th>\n",
       "      <td>Rusia Umumkan 1.351 Tentaranya Tewas, sedangka...</td>\n",
       "    </tr>\n",
       "    <tr>\n",
       "      <th>8</th>\n",
       "      <td>Link Live Streaming Argentina Vs Venezuela, Ki...</td>\n",
       "    </tr>\n",
       "    <tr>\n",
       "      <th>9</th>\n",
       "      <td>Menunggu Difoto Drone, 66 Siswa Ciamis Jatuh k...</td>\n",
       "    </tr>\n",
       "  </tbody>\n",
       "</table>\n",
       "</div>"
      ],
      "text/plain": [
       "                                               title\n",
       "0  Hasil Swiss Open 2022: Tembus Semifinal, Antho...\n",
       "1  Sebelum Bunuh Diri, Pria yang Tewas di Parkira...\n",
       "2  Kapal Perang Rusia Orsk Meledak di Laut Azov, ...\n",
       "3  Hasil Bali United Vs Persebaya 0-3, Antiklimak...\n",
       "4  Istri Juragan 99 Bantah Omzet MS Glow Rp 600 M...\n",
       "5  Rekap Hasil Swiss Open 2022: 5 Wakil Indonesia...\n",
       "6  Hasil Swiss Open 2022: Bekuk Wakil Malaysia, F...\n",
       "7  Rusia Umumkan 1.351 Tentaranya Tewas, sedangka...\n",
       "8  Link Live Streaming Argentina Vs Venezuela, Ki...\n",
       "9  Menunggu Difoto Drone, 66 Siswa Ciamis Jatuh k..."
      ]
     },
     "execution_count": 31,
     "metadata": {},
     "output_type": "execute_result"
    }
   ],
   "source": [
    "df"
   ]
  },
  {
   "cell_type": "code",
   "execution_count": 32,
   "metadata": {},
   "outputs": [],
   "source": [
    "df.to_csv(\"scrape_kompaspopuler.csv\", index=False)"
   ]
  }
 ],
 "metadata": {
  "interpreter": {
   "hash": "b09faad8010c53ac42204f4e48cb8cd6a05a747dc338ce78a1104621a990696c"
  },
  "kernelspec": {
   "display_name": "Python 3.8.6 ('ms_python')",
   "language": "python",
   "name": "python3"
  },
  "language_info": {
   "codemirror_mode": {
    "name": "ipython",
    "version": 3
   },
   "file_extension": ".py",
   "mimetype": "text/x-python",
   "name": "python",
   "nbconvert_exporter": "python",
   "pygments_lexer": "ipython3",
   "version": "3.10.4"
  },
  "orig_nbformat": 4
 },
 "nbformat": 4,
 "nbformat_minor": 2
}
